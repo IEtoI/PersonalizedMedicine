{
 "cells": [
  {
   "cell_type": "markdown",
   "metadata": {
    "_cell_guid": "67c743ea-d656-4713-86bb-f55b4c2a178a",
    "_execution_state": "idle",
    "_uuid": "51625e8132e1ee8c0499967fba497b4f0b578012"
   },
   "source": [
    "There are some really cool Kernels sitting out there for this competition and they are far slicker and efficient than this. This is just a brief data dive and some features using TFIDF and Truncated SVD on them. "
   ]
  },
  {
   "cell_type": "code",
   "execution_count": 31,
   "metadata": {
    "ExecuteTime": {
     "end_time": "2017-09-23T16:40:36.280422Z",
     "start_time": "2017-09-23T16:40:36.262920Z"
    },
    "_cell_guid": "d3866280-7e93-49b7-b43d-27f9cabbaf66",
    "_execution_state": "idle",
    "_uuid": "6235fb60c126731b0070df90e1e46350beaa948b",
    "collapsed": true
   },
   "outputs": [],
   "source": [
    "# This Python 3 environment comes with many helpful analytics libraries installed\n",
    "# It is defined by the kaggle/python docker image: https://github.com/kaggle/docker-python\n",
    "# For example, here's several helpful packages to load in \n",
    "%matplotlib inline\n",
    "import numpy as np # linear algebra\n",
    "import pandas as pd # data processing, CSV file I/O (e.g. pd.read_csv)\n",
    "import lightgbm as lgb\n",
    "from sklearn.model_selection import train_test_split\n",
    "import xgboost \n",
    "\n",
    "import gensim\n",
    "import nltk\n",
    "\n",
    "from sklearn.feature_extraction.text import TfidfVectorizer, CountVectorizer\n",
    "from sklearn.decomposition import TruncatedSVD\n",
    "from nltk.corpus import stopwords\n",
    "import re\n",
    "import gc\n",
    "import seaborn as sns\n",
    "import matplotlib.pyplot as plt\n",
    "# Input data files are available in the \"../input/\" directory.\n",
    "# For example, running this (by clicking run or pressing Shift+Enter) will list the files in the input directory\n",
    "\n",
    "# from subprocess import check_output\n",
    "# print(check_output([\"ls\", \"../input\"]).decode(\"utf8\"))\n",
    "\n",
    "# Any results you write to the current directory are saved as output."
   ]
  },
  {
   "cell_type": "code",
   "execution_count": 3,
   "metadata": {
    "ExecuteTime": {
     "end_time": "2017-09-23T16:27:34.849580Z",
     "start_time": "2017-09-23T16:27:28.220809Z"
    },
    "_cell_guid": "a16da2b1-fb1c-4c58-9527-c9ed4cebf056",
    "_execution_state": "idle",
    "_uuid": "5a1c2a3d070e806b3473e9e07afaa3367526a7ab"
   },
   "outputs": [
    {
     "name": "stderr",
     "output_type": "stream",
     "text": [
      "<input>:5: DeprecationWarning: invalid escape sequence \\|\n",
      "<input>:5: DeprecationWarning: invalid escape sequence \\|\n",
      "<input>:5: DeprecationWarning: invalid escape sequence \\|\n",
      "<input>:5: DeprecationWarning: invalid escape sequence \\|\n",
      "<input>:7: DeprecationWarning: invalid escape sequence \\|\n",
      "<input>:5: DeprecationWarning: invalid escape sequence \\|\n",
      "<input>:7: DeprecationWarning: invalid escape sequence \\|\n",
      "<input>:5: DeprecationWarning: invalid escape sequence \\|\n",
      "<input>:7: DeprecationWarning: invalid escape sequence \\|\n",
      "<ipython-input-3-7ba59b38365e>:5: DeprecationWarning: invalid escape sequence \\|\n",
      "  tText = pd.read_csv('training_text',sep='\\|\\|',\n",
      "<ipython-input-3-7ba59b38365e>:7: DeprecationWarning: invalid escape sequence \\|\n",
      "  vText = pd.read_csv('test_text',sep='\\|\\|',\n"
     ]
    }
   ],
   "source": [
    "import os\n",
    "cdir = os.getcwd()\n",
    "tVars = pd.read_csv('training_variants')\n",
    "vVars = pd.read_csv('stage2_test_variants.csv')\n",
    "tText = pd.read_csv('training_text',sep='\\|\\|',\n",
    "                    skiprows=1,engine='python',names=[\"ID\",\"text\"])\n",
    "vText = pd.read_csv('stage2_test_text.csv',sep='\\|\\|',\n",
    "                    skiprows=1,engine='python',names=[\"ID\",\"text\"])"
   ]
  },
  {
   "cell_type": "code",
   "execution_count": 4,
   "metadata": {
    "ExecuteTime": {
     "end_time": "2017-09-23T16:27:34.936090Z",
     "start_time": "2017-09-23T16:27:34.852080Z"
    },
    "_cell_guid": "199aa5e9-40d7-41e1-a443-a7816b61bb84",
    "_execution_state": "idle",
    "_uuid": "21bfe5db7daf46ab95d723a322fbe8021d1ca26a"
   },
   "outputs": [
    {
     "data": {
      "text/html": [
       "<div>\n",
       "<style>\n",
       "    .dataframe thead tr:only-child th {\n",
       "        text-align: right;\n",
       "    }\n",
       "\n",
       "    .dataframe thead th {\n",
       "        text-align: left;\n",
       "    }\n",
       "\n",
       "    .dataframe tbody tr th {\n",
       "        vertical-align: top;\n",
       "    }\n",
       "</style>\n",
       "<table border=\"1\" class=\"dataframe\">\n",
       "  <thead>\n",
       "    <tr style=\"text-align: right;\">\n",
       "      <th></th>\n",
       "      <th>ID</th>\n",
       "      <th>Gene</th>\n",
       "      <th>Variation</th>\n",
       "      <th>Class</th>\n",
       "    </tr>\n",
       "  </thead>\n",
       "  <tbody>\n",
       "    <tr>\n",
       "      <th>0</th>\n",
       "      <td>0</td>\n",
       "      <td>FAM58A</td>\n",
       "      <td>Truncating Mutations</td>\n",
       "      <td>1</td>\n",
       "    </tr>\n",
       "    <tr>\n",
       "      <th>1</th>\n",
       "      <td>1</td>\n",
       "      <td>CBL</td>\n",
       "      <td>W802*</td>\n",
       "      <td>2</td>\n",
       "    </tr>\n",
       "    <tr>\n",
       "      <th>2</th>\n",
       "      <td>2</td>\n",
       "      <td>CBL</td>\n",
       "      <td>Q249E</td>\n",
       "      <td>2</td>\n",
       "    </tr>\n",
       "    <tr>\n",
       "      <th>3</th>\n",
       "      <td>3</td>\n",
       "      <td>CBL</td>\n",
       "      <td>N454D</td>\n",
       "      <td>3</td>\n",
       "    </tr>\n",
       "    <tr>\n",
       "      <th>4</th>\n",
       "      <td>4</td>\n",
       "      <td>CBL</td>\n",
       "      <td>L399V</td>\n",
       "      <td>4</td>\n",
       "    </tr>\n",
       "  </tbody>\n",
       "</table>\n",
       "</div>"
      ],
      "text/plain": [
       "   ID    Gene             Variation  Class\n",
       "0   0  FAM58A  Truncating Mutations      1\n",
       "1   1     CBL                 W802*      2\n",
       "2   2     CBL                 Q249E      2\n",
       "3   3     CBL                 N454D      3\n",
       "4   4     CBL                 L399V      4"
      ]
     },
     "execution_count": 4,
     "metadata": {},
     "output_type": "execute_result"
    }
   ],
   "source": [
    "tVars.head()"
   ]
  },
  {
   "cell_type": "code",
   "execution_count": 5,
   "metadata": {
    "ExecuteTime": {
     "end_time": "2017-09-23T16:27:34.952092Z",
     "start_time": "2017-09-23T16:27:34.939092Z"
    },
    "_cell_guid": "c3003118-3ad6-4416-9d67-99d1fba8f7f2",
    "_execution_state": "idle",
    "_uuid": "80a2ce71b57064b3a5b789eea03ce8a246f67776"
   },
   "outputs": [
    {
     "data": {
      "text/html": [
       "<div>\n",
       "<style>\n",
       "    .dataframe thead tr:only-child th {\n",
       "        text-align: right;\n",
       "    }\n",
       "\n",
       "    .dataframe thead th {\n",
       "        text-align: left;\n",
       "    }\n",
       "\n",
       "    .dataframe tbody tr th {\n",
       "        vertical-align: top;\n",
       "    }\n",
       "</style>\n",
       "<table border=\"1\" class=\"dataframe\">\n",
       "  <thead>\n",
       "    <tr style=\"text-align: right;\">\n",
       "      <th></th>\n",
       "      <th>ID</th>\n",
       "      <th>text</th>\n",
       "    </tr>\n",
       "  </thead>\n",
       "  <tbody>\n",
       "    <tr>\n",
       "      <th>0</th>\n",
       "      <td>0</td>\n",
       "      <td>Cyclin-dependent kinases (CDKs) regulate a var...</td>\n",
       "    </tr>\n",
       "    <tr>\n",
       "      <th>1</th>\n",
       "      <td>1</td>\n",
       "      <td>Abstract Background  Non-small cell lung canc...</td>\n",
       "    </tr>\n",
       "    <tr>\n",
       "      <th>2</th>\n",
       "      <td>2</td>\n",
       "      <td>Abstract Background  Non-small cell lung canc...</td>\n",
       "    </tr>\n",
       "    <tr>\n",
       "      <th>3</th>\n",
       "      <td>3</td>\n",
       "      <td>Recent evidence has demonstrated that acquired...</td>\n",
       "    </tr>\n",
       "    <tr>\n",
       "      <th>4</th>\n",
       "      <td>4</td>\n",
       "      <td>Oncogenic mutations in the monomeric Casitas B...</td>\n",
       "    </tr>\n",
       "  </tbody>\n",
       "</table>\n",
       "</div>"
      ],
      "text/plain": [
       "   ID                                               text\n",
       "0   0  Cyclin-dependent kinases (CDKs) regulate a var...\n",
       "1   1   Abstract Background  Non-small cell lung canc...\n",
       "2   2   Abstract Background  Non-small cell lung canc...\n",
       "3   3  Recent evidence has demonstrated that acquired...\n",
       "4   4  Oncogenic mutations in the monomeric Casitas B..."
      ]
     },
     "execution_count": 5,
     "metadata": {},
     "output_type": "execute_result"
    }
   ],
   "source": [
    "tText.head()"
   ]
  },
  {
   "cell_type": "code",
   "execution_count": 6,
   "metadata": {
    "ExecuteTime": {
     "end_time": "2017-09-23T16:27:34.985596Z",
     "start_time": "2017-09-23T16:27:34.954592Z"
    },
    "_cell_guid": "7141a2ab-def2-4c4d-be44-eacaba228589",
    "_execution_state": "idle",
    "_uuid": "ba0dfdc524c1b0eb13fe7a56df33bc5da9346e7a"
   },
   "outputs": [
    {
     "name": "stdout",
     "output_type": "stream",
     "text": [
      "Cyclin-dependent kin     39765\n"
     ]
    }
   ],
   "source": [
    "print(tText['text'][0][:20], '   ', len(tText['text'][0]))"
   ]
  },
  {
   "cell_type": "markdown",
   "metadata": {
    "_cell_guid": "37b98fd9-6c51-4c32-b15c-9649cee3b66a",
    "_execution_state": "idle",
    "_uuid": "c1b6990db8a8916f51292e401188af5e87a63af7"
   },
   "source": [
    "It looks like each of these items in the text are going to have fairly lengthy descriptions and we can treat these as documents, or at least I am."
   ]
  },
  {
   "cell_type": "code",
   "execution_count": 7,
   "metadata": {
    "ExecuteTime": {
     "end_time": "2017-09-23T16:27:34.996098Z",
     "start_time": "2017-09-23T16:27:34.988596Z"
    },
    "_cell_guid": "6f1b4aa8-235d-456c-b80c-06bcfd959c54",
    "_execution_state": "idle",
    "_uuid": "a105228acbed27ec7310a4f50d37a6d7577c35c1"
   },
   "outputs": [
    {
     "name": "stdout",
     "output_type": "stream",
     "text": [
      "3321 3321 5668 5668\n"
     ]
    }
   ],
   "source": [
    "print(len(tText), len(tVars), len(vText), len(vVars))"
   ]
  },
  {
   "cell_type": "code",
   "execution_count": 8,
   "metadata": {
    "ExecuteTime": {
     "end_time": "2017-09-23T16:27:35.011599Z",
     "start_time": "2017-09-23T16:27:34.999098Z"
    },
    "_cell_guid": "348c060b-4eb0-4095-b2b6-d3ad85da109b",
    "_execution_state": "idle",
    "_uuid": "7be050fc4c30a229a7b6ddae914158a63d13305b"
   },
   "outputs": [
    {
     "name": "stdout",
     "output_type": "stream",
     "text": [
      "Counter({'BRCA1': 264, 'TP53': 163, 'EGFR': 141, 'PTEN': 126, 'BRCA2': 125, 'KIT': 99, 'BRAF': 93, 'ERBB2': 69, 'ALK': 69, 'PDGFRA': 60, 'PIK3CA': 56, 'CDKN2A': 52, 'FGFR2': 50, 'FLT3': 49, 'TSC2': 47, 'MTOR': 45, 'KRAS': 44, 'MAP2K1': 43, 'VHL': 41, 'RET': 40, 'FGFR3': 39, 'MLH1': 35, 'SMAD4': 33, 'MET': 33, 'JAK2': 33, 'NOTCH1': 31, 'AKT1': 28, 'ROS1': 26, 'ABL1': 26, 'PTPN11': 26, 'CBL': 25, 'CTNNB1': 25, 'PIK3R1': 24, 'RUNX1': 24, 'PTPRT': 23, 'SMAD3': 23, 'PDGFRB': 23, 'HRAS': 22, 'NFE2L2': 22, 'MSH2': 21, 'SMO': 21, 'ERBB4': 20, 'TSC1': 20, 'SPOP': 20, 'AR': 20, 'SMAD2': 19, 'FBXW7': 19, 'ERCC2': 19, 'JAK1': 18, 'RHOA': 17, 'SF3B1': 16, 'ESR1': 16, 'PMS2': 16, 'IDH1': 16, 'NF1': 16, 'NTRK1': 16, 'TET2': 14, 'KEAP1': 14, 'MSH6': 13, 'FGFR1': 13, 'CCND1': 13, 'STK11': 13, 'PPP2R1A': 12, 'CARD11': 12, 'RAF1': 12, 'NRAS': 12, 'ERBB3': 11, 'EWSR1': 11, 'AKT2': 11, 'MAP2K2': 11, 'NF2': 11, 'PIK3CB': 10, 'POLE': 10, 'CDK12': 10, 'RB1': 10, 'DICER1': 9, 'CDH1': 9, 'EP300': 9, 'BAP1': 9, 'FANCA': 9, 'MAP2K4': 9, 'DDR2': 9, 'TERT': 8, 'TGFBR1': 8, 'EPAS1': 8, 'ETV6': 8, 'FOXA1': 8, 'EZH2': 8, 'PIM1': 8, 'PIK3R2': 8, 'MYC': 8, 'STAT3': 8, 'CCND3': 7, 'CHEK2': 7, 'CDKN2B': 7, 'BRIP1': 7, 'CREBBP': 7, 'ARAF': 7, 'SOX9': 7, 'KDR': 7, 'RAC1': 7, 'NKX2-1': 6, 'TMPRSS2': 6, 'ELF3': 6, 'ERCC4': 6, 'SMARCA4': 6, 'MEF2B': 6, 'ATM': 6, 'SOS1': 6, 'B2M': 6, 'CASP8': 6, 'TGFBR2': 5, 'KDM5C': 5, 'APC': 5, 'IDH2': 5, 'CTCF': 5, 'AGO2': 5, 'BCOR': 5, 'CIC': 5, 'PRDM1': 5, 'PTPRD': 5, 'GNAS': 5, 'MED12': 5, 'NTRK3': 5, 'RIT1': 4, 'CDKN1B': 4, 'ERG': 4, 'MAP3K1': 4, 'KMT2C': 4, 'FAT1': 4, 'YAP1': 4, 'MPL': 4, 'KNSTRN': 4, 'PPP6C': 4, 'NFKBIA': 4, 'AKT3': 4, 'RASA1': 4, 'RHEB': 3, 'RAD50': 3, 'PBRM1': 3, 'H3F3A': 3, 'CDK4': 3, 'CDKN1A': 3, 'RBM10': 3, 'ETV1': 3, 'ACVR1': 3, 'U2AF1': 3, 'PIK3CD': 3, 'KMT2A': 3, 'FGFR4': 3, 'CARM1': 3, 'SETD2': 3, 'IGF1R': 3, 'TET1': 3, 'NUP93': 3, 'MYD88': 3, 'GATA3': 3, 'AURKA': 3, 'BTK': 3, 'DNMT3A': 3, 'HNF1A': 3, 'NTRK2': 3, 'CCNE1': 2, 'KMT2D': 2, 'ARID2': 2, 'BRD4': 2, 'TP53BP1': 2, 'CDK6': 2, 'ERCC3': 2, 'HLA-A': 2, 'RXRA': 2, 'ARID1B': 2, 'KDM6A': 2, 'XPO1': 2, 'XRCC2': 2, 'SMARCB1': 2, 'FOXP1': 2, 'MAPK1': 2, 'MYCN': 2, 'ATRX': 2, 'SRC': 2, 'PTCH1': 2, 'FOXL2': 2, 'BCL10': 2, 'MGA': 2, 'NOTCH2': 2, 'DNMT3B': 2, 'RAD21': 2, 'RAD51C': 2, 'NPM1': 2, 'RAB35': 2, 'BCL2L11': 2, 'NSD1': 2, 'FAM58A': 1, 'SHOC2': 1, 'SHQ1': 1, 'CCND2': 1, 'RYBP': 1, 'LATS1': 1, 'LATS2': 1, 'EIF1AX': 1, 'HIST1H1C': 1, 'ERRFI1': 1, 'PAK1': 1, 'ASXL2': 1, 'EPCAM': 1, 'AURKB': 1, 'CDK8': 1, 'CDKN2C': 1, 'ASXL1': 1, 'CEBPA': 1, 'HLA-B': 1, 'IKZF1': 1, 'MDM2': 1, 'ARID1A': 1, 'MDM4': 1, 'KLF4': 1, 'AXIN1': 1, 'MEN1': 1, 'FANCC': 1, 'ARID5B': 1, 'FGF3': 1, 'FGF4': 1, 'SDHB': 1, 'RAD54L': 1, 'SDHC': 1, 'VEGFA': 1, 'PMS1': 1, 'FOXO1': 1, 'RRAS2': 1, 'FLT1': 1, 'SRSF2': 1, 'WHSC1': 1, 'PPM1D': 1, 'PIK3R3': 1, 'RICTOR': 1, 'NCOR1': 1, 'IKBKE': 1, 'CTLA4': 1, 'STAG2': 1, 'IL7R': 1, 'KMT2B': 1, 'ATR': 1, 'AXL': 1, 'MYOD1': 1, 'BARD1': 1, 'BCL2': 1, 'RNF43': 1, 'INPP4B': 1, 'WHSC1L1': 1, 'JUN': 1, 'PAX8': 1, 'GLI1': 1, 'FUBP1': 1, 'GNA11': 1, 'GNAQ': 1, 'FGF19': 1, 'RAD51B': 1, 'RAD51D': 1, 'TCF3': 1, 'TCF7L2': 1, 'RARA': 1, 'KDM5A': 1, 'DUSP4': 1}) \n",
      " 264\n"
     ]
    }
   ],
   "source": [
    "from collections import Counter\n",
    "varsGeneCount = Counter(tVars.Gene)\n",
    "print(varsGeneCount, '\\n', len(varsGeneCount))"
   ]
  },
  {
   "cell_type": "markdown",
   "metadata": {
    "_cell_guid": "5729768a-fa8d-4ace-b34a-60bba896acf6",
    "_execution_state": "idle",
    "_uuid": "75382b73a3c5dec0e32258a213d5a26fe0424fc8"
   },
   "source": [
    "That will be giving us 264 different categories if we decide to encode the labels. At this point I am not sure I know what they mean either.  What about the classes?"
   ]
  },
  {
   "cell_type": "code",
   "execution_count": 9,
   "metadata": {
    "ExecuteTime": {
     "end_time": "2017-09-23T16:27:35.861895Z",
     "start_time": "2017-09-23T16:27:35.014116Z"
    },
    "_cell_guid": "cf59f037-94be-4b8d-a02d-fdde9d16b9e7",
    "_execution_state": "idle",
    "_uuid": "37a8a2679a6ffad3cc2b48758deeea8d4ac9cc04"
   },
   "outputs": [
    {
     "data": {
      "image/png": "[encoded data removed]",
      "text/plain": [
       "<matplotlib.figure.Figure at 0x27b45f7ebe0>"
      ]
     },
     "metadata": {},
     "output_type": "display_data"
    }
   ],
   "source": [
    "plt.figure(figsize=(12,8))\n",
    "ax = sns.countplot(x=\"Class\", data=tVars)\n",
    "plt.ylabel('Frequency'); plt.xlabel('Class')\n",
    "plt.title('Freq. of Classes in Training Variants')\n",
    "plt.show()"
   ]
  },
  {
   "cell_type": "code",
   "execution_count": 10,
   "metadata": {
    "ExecuteTime": {
     "end_time": "2017-09-23T16:27:35.936405Z",
     "start_time": "2017-09-23T16:27:35.865896Z"
    },
    "_cell_guid": "69fd7bbc-56a4-43c8-977c-a8d9ea1cbb27",
    "_execution_state": "idle",
    "_uuid": "b583a462b9ad8faa695f4415c738571b4b109b01"
   },
   "outputs": [
    {
     "data": {
      "text/html": [
       "<div>\n",
       "<style>\n",
       "    .dataframe thead tr:only-child th {\n",
       "        text-align: right;\n",
       "    }\n",
       "\n",
       "    .dataframe thead th {\n",
       "        text-align: left;\n",
       "    }\n",
       "\n",
       "    .dataframe tbody tr th {\n",
       "        vertical-align: top;\n",
       "    }\n",
       "</style>\n",
       "<table border=\"1\" class=\"dataframe\">\n",
       "  <thead>\n",
       "    <tr style=\"text-align: right;\">\n",
       "      <th></th>\n",
       "      <th>ID</th>\n",
       "      <th>class1</th>\n",
       "      <th>class2</th>\n",
       "      <th>class3</th>\n",
       "      <th>class4</th>\n",
       "      <th>class5</th>\n",
       "      <th>class6</th>\n",
       "      <th>class7</th>\n",
       "      <th>class8</th>\n",
       "      <th>class9</th>\n",
       "    </tr>\n",
       "  </thead>\n",
       "  <tbody>\n",
       "    <tr>\n",
       "      <th>0</th>\n",
       "      <td>0</td>\n",
       "      <td>0.000000</td>\n",
       "      <td>0.257231</td>\n",
       "      <td>0.0</td>\n",
       "      <td>0.000000</td>\n",
       "      <td>0.000000</td>\n",
       "      <td>0.035007</td>\n",
       "      <td>0.702068</td>\n",
       "      <td>0.000000</td>\n",
       "      <td>0.005693</td>\n",
       "    </tr>\n",
       "    <tr>\n",
       "      <th>1</th>\n",
       "      <td>1</td>\n",
       "      <td>0.167919</td>\n",
       "      <td>0.116956</td>\n",
       "      <td>0.0</td>\n",
       "      <td>0.403286</td>\n",
       "      <td>0.003950</td>\n",
       "      <td>0.047564</td>\n",
       "      <td>0.239194</td>\n",
       "      <td>0.004589</td>\n",
       "      <td>0.016542</td>\n",
       "    </tr>\n",
       "    <tr>\n",
       "      <th>2</th>\n",
       "      <td>2</td>\n",
       "      <td>0.081397</td>\n",
       "      <td>0.251555</td>\n",
       "      <td>0.0</td>\n",
       "      <td>0.219557</td>\n",
       "      <td>0.040011</td>\n",
       "      <td>0.046861</td>\n",
       "      <td>0.352531</td>\n",
       "      <td>0.002473</td>\n",
       "      <td>0.005615</td>\n",
       "    </tr>\n",
       "  </tbody>\n",
       "</table>\n",
       "</div>"
      ],
      "text/plain": [
       "   ID    class1    class2  class3    class4    class5    class6    class7  \\\n",
       "0   0  0.000000  0.257231     0.0  0.000000  0.000000  0.035007  0.702068   \n",
       "1   1  0.167919  0.116956     0.0  0.403286  0.003950  0.047564  0.239194   \n",
       "2   2  0.081397  0.251555     0.0  0.219557  0.040011  0.046861  0.352531   \n",
       "\n",
       "     class8    class9  \n",
       "0  0.000000  0.005693  \n",
       "1  0.004589  0.016542  \n",
       "2  0.002473  0.005615  "
      ]
     },
     "execution_count": 10,
     "metadata": {},
     "output_type": "execute_result"
    }
   ],
   "source": [
    "subfile = pd.read_csv('submission.csv')\n",
    "subfile.head(3)"
   ]
  },
  {
   "cell_type": "markdown",
   "metadata": {
    "_cell_guid": "d3d81347-805f-4608-82c8-200db7d6efcc",
    "_uuid": "4b516c98beb06126aaa25df6c64e82dca6560b93"
   },
   "source": [
    "With so many \"7\" classes there could be an issue of predictions skewed that way which may be something to look at down the road."
   ]
  },
  {
   "cell_type": "code",
   "execution_count": 11,
   "metadata": {
    "ExecuteTime": {
     "end_time": "2017-09-23T16:27:35.947407Z",
     "start_time": "2017-09-23T16:27:35.939905Z"
    },
    "_cell_guid": "f80b224a-adbc-4548-a962-c8ccb42b4ba6",
    "_execution_state": "idle",
    "_uuid": "89b393740802929b0d93848033e0998f47cb817d"
   },
   "outputs": [
    {
     "name": "stdout",
     "output_type": "stream",
     "text": [
      "Number of unique varations in trainVars.Variation: \n",
      " 2996\n"
     ]
    }
   ],
   "source": [
    "varsVariationCount = Counter(tVars.Variation)\n",
    "print('Number of unique varations in trainVars.Variation: \\n', len(varsVariationCount))"
   ]
  },
  {
   "cell_type": "code",
   "execution_count": 12,
   "metadata": {
    "ExecuteTime": {
     "end_time": "2017-09-23T16:27:36.606878Z",
     "start_time": "2017-09-23T16:27:35.951407Z"
    },
    "_cell_guid": "53e47f43-5826-4b52-9302-252948d7e0ba",
    "_execution_state": "idle",
    "_uuid": "91128dbb0a8dde5c38a397a0e800379c5af8a84f"
   },
   "outputs": [
    {
     "name": "stderr",
     "output_type": "stream",
     "text": [
      "C:\\Users\\Wegee\\Anaconda3\\lib\\site-packages\\statsmodels\\nonparametric\\kde.py:475: DeprecationWarning: object of type <class 'numpy.float64'> cannot be safely interpreted as an integer.\n",
      "  grid,delta = np.linspace(a,b,gridsize,retstep=True)\n"
     ]
    },
    {
     "data": {
      "image/png": "[encoded data removed]",
      "text/plain": [
       "<matplotlib.figure.Figure at 0x27b460316a0>"
      ]
     },
     "metadata": {},
     "output_type": "display_data"
    }
   ],
   "source": [
    "fig, ax=plt.subplots(1,1,figsize=(12,8))\n",
    "ax = sns.distplot(pd.factorize(tVars['Variation'])[0]/len(tVars), bins=150, color='r')"
   ]
  },
  {
   "cell_type": "markdown",
   "metadata": {
    "_cell_guid": "4226fd28-58d8-4040-9550-c692a42dd245",
    "_execution_state": "idle",
    "_uuid": "30ef76b6258b1220575958e80cf9ae221b998ed4"
   },
   "source": [
    "Once again, many, many different categories here, and it appears there are a lot of unique ones with only 1 count. With so many in \"7\" it could be a slight disadvantage."
   ]
  },
  {
   "cell_type": "markdown",
   "metadata": {
    "_cell_guid": "555f6535-8750-4f6e-b18e-200e0878a5fd",
    "_execution_state": "idle",
    "_uuid": "0aa42c6dd04b662dad4c406dc74e5d892967e345"
   },
   "source": [
    "Since there is not that much else to look at in the Training Variants, lets take a little closer look into the Training Text. _I kept getting errors importing the stop words so I just grabbed them._"
   ]
  },
  {
   "cell_type": "code",
   "execution_count": 13,
   "metadata": {
    "ExecuteTime": {
     "end_time": "2017-09-23T16:27:36.647383Z",
     "start_time": "2017-09-23T16:27:36.610377Z"
    },
    "_cell_guid": "0ad28724-92d4-4fe8-9d61-ebed4c9d392f",
    "_execution_state": "idle",
    "_uuid": "ac381ee79f94d36262f21caf20026f7ab044541e",
    "collapsed": true
   },
   "outputs": [],
   "source": [
    "stopWords = [\"fig\", \"figure\", \"fig.\" \"et\", \"al\", \"table\", \"fig \"\n",
    "            \"data\", \"analysis\", \"analyze\", \"study\",  \n",
    "            \"method\", \"result\", \"conclusion\", \"author\",  \n",
    "            \"find\", \"found\", \"show\", \"perform\",  \n",
    "            \"demonstrate\", \"evaluate\", \"discuss\", \"google\", \"scholar\",   \n",
    "            \"pubmed\",  \"web\", \"science\", \"crossref\", \"supplementary\", \"mutation\", \"mutations\", \"cells\", \n",
    "             \"cell\", \"mutations\", \"mutation\", \"also\", \"figure\", \"using\", \"fig\", \"methods\",\n",
    "            \"(1)\",\"(2)\",\"(3)\",\"(4)\",\"(5)\",\"(6)\",\"(7)\",\"(8)\",\"(9)\",\"(10)\",\"(11)\",\"(12)\",\"(13)\",\"(14)\",\"(15)\",\n",
    "            \"(1).\",\"(2).\",\"(3).\",\"(4).\",\"(5).\",\"(6).\",\"(7).\",\"(8).\",\"(9).\",\"(10).\",\"(11).\",\"(12).\",\"(13).\",\"(14).\",\"(15).\",\n",
    "            \"(1)]\",\"(2)]\",\"(3)]\",\"(4)]\",\"(5)]\",\"(6)]\",\"(7)]\",\"(8)]\",\"(9)]\",\"(10)]\",\"(11)]\",\"(12)]\",\"(13)]\",\"(14)]\",\"(15)]\",\n",
    "            \"(1)].\",\"(2)].\",\"(3)].\",\"(4)].\",\"(5)].\",\"(6)].\",\"(7)].\",\"(8)].\",\"(9)].\",\"(10)].\",\"(11)].\",\"(12)].\",\"(13)].\",\"(14).\",\"(15)].\",\n",
    "            \"1\", \"2\", \"3\", \"4\", \"5\", \"6\", \"7\", \"8\", \"9\", \"0\"]\n",
    "    \n",
    "\n",
    "\n",
    "def textClean(text):\n",
    "    text = re.sub(r\"[^A-Za-z0-9^,!.\\/'+-=]\", \" \", text)\n",
    "    text = text.lower().split()\n",
    "    stops = set(stopwords.words('english')+stopWords)\n",
    "    ## I ketp getting errors on importing the stopwords and I have no clue why\n",
    "    #stops = set(stopwords.words(\"English\"))\n",
    "    text = [w for w in text if not w in stops]    \n",
    "    text = \" \".join(text)\n",
    "    text = text.replace(\".\",\" \").replace(\",\",\" \")\n",
    "    return(text)"
   ]
  },
  {
   "cell_type": "code",
   "execution_count": 14,
   "metadata": {
    "ExecuteTime": {
     "end_time": "2017-09-23T16:28:38.734499Z",
     "start_time": "2017-09-23T16:27:36.650382Z"
    },
    "_cell_guid": "a58ca003-43c1-459f-9cb0-430cc0f1a561",
    "_execution_state": "idle",
    "_uuid": "9e3b17fe413440ed8ac822e035af220f853a76c9",
    "collapsed": true
   },
   "outputs": [],
   "source": [
    "trainText = []\n",
    "for it in tText['text']:\n",
    "    newT = textClean(it)\n",
    "    trainText.append(newT)\n",
    "testText = []\n",
    "for it in vText['text']:\n",
    "    newT = textClean(it)\n",
    "    testText.append(newT)"
   ]
  },
  {
   "cell_type": "markdown",
   "metadata": {
    "_cell_guid": "d62e18c8-c273-4ffa-94ee-d0e74d5e900d",
    "_uuid": "f7db25f0b35da5eff59287769089018c19b29801"
   },
   "source": [
    "After a little cleaning, I wonder how the text shapes up now? Are there any other additional words that we could cut out?"
   ]
  },
  {
   "cell_type": "code",
   "execution_count": 15,
   "metadata": {
    "ExecuteTime": {
     "end_time": "2017-09-23T16:28:38.749474Z",
     "start_time": "2017-09-23T16:28:38.738473Z"
    },
    "_cell_guid": "cbf31dd0-cbc4-4fbe-8504-ec6f7ac19932",
    "_execution_state": "idle",
    "_uuid": "61d755d57489a3cffe270da7d1b9ea28876bbab0"
   },
   "outputs": [
    {
     "data": {
      "text/plain": [
       "'cyclin-dependent kinases cdks regulate variety fundamental cellular processes  cdk10 stands one last'"
      ]
     },
     "execution_count": 15,
     "metadata": {},
     "output_type": "execute_result"
    }
   ],
   "source": [
    "trainText[0][:100]"
   ]
  },
  {
   "cell_type": "markdown",
   "metadata": {
    "_cell_guid": "e9511696-3f37-4376-8b25-2ba8303b19ab",
    "_uuid": "99d6f9bec5b19f21e91f18afffd761c375265341"
   },
   "source": [
    "So each of the portions of the doc are cleaned and we can check out the most common of a few of them..."
   ]
  },
  {
   "cell_type": "code",
   "execution_count": 16,
   "metadata": {
    "ExecuteTime": {
     "end_time": "2017-09-23T16:28:38.781981Z",
     "start_time": "2017-09-23T16:28:38.751975Z"
    },
    "_cell_guid": "e659f5b0-0caa-4d05-927c-b177acaa7754",
    "_execution_state": "idle",
    "_uuid": "86d33da4e02be03414f72820f3c77ca178ce8b8b"
   },
   "outputs": [
    {
     "name": "stdout",
     "output_type": "stream",
     "text": [
      "\n",
      " Doc  0\n",
      "[('cyclin', 90), ('cdk10', 81), ('fig', 68), ('ets2', 54), ('expression', 43), ('protein', 38), ('levels', 35), ('fam58a', 33), ('star', 33), ('mm', 26)]\n",
      "\n",
      " Doc  1\n",
      "[('c-cbl', 153), ('lung', 56), ('egfr', 43), ('met', 33), ('samples', 33), ('cancer', 32), ('loh', 29), ('patients', 26), ('0', 25), ('domain', 23)]\n",
      "\n",
      " Doc  2\n",
      "[('c-cbl', 153), ('lung', 56), ('egfr', 43), ('met', 33), ('samples', 33), ('cancer', 32), ('loh', 29), ('patients', 26), ('0', 25), ('domain', 23)]\n",
      "\n",
      " Doc  3\n",
      "[('cbl', 104), ('cases', 50), ('aupd', 42), ('upn', 38), ('case', 26), ('11q', 25), ('tyrosine', 22), ('mpns', 21), ('flt3', 21), ('10', 19)]\n",
      "\n",
      " Doc  4\n",
      "[('cbl', 121), ('binding', 64), ('cancer', 62), ('stability', 40), ('effects', 33), ('fig', 32), ('protein', 30), ('activity', 30), ('cbl-e2', 30), ('state', 26)]\n",
      "\n",
      " Doc  5\n",
      "[('cbl', 121), ('binding', 64), ('cancer', 62), ('stability', 40), ('effects', 33), ('fig', 32), ('protein', 30), ('activity', 30), ('cbl-e2', 30), ('state', 26)]\n",
      "\n",
      " Doc  6\n",
      "[('cbl', 121), ('binding', 64), ('cancer', 62), ('stability', 40), ('effects', 33), ('fig', 32), ('protein', 30), ('activity', 30), ('cbl-e2', 30), ('state', 26)]\n",
      "\n",
      " Doc  7\n",
      "[('cbl', 273), ('flt3', 163), ('patients', 117), ('c-cbl', 56), ('p', 56), ('patient', 50), ('mutant', 46), ('domain', 45), ('exon', 45), ('aml', 43)]\n",
      "\n",
      " Doc  8\n",
      "[('cbl', 275), ('c', 75), ('phosphorylation', 72), ('gm-csf', 70), ('binding', 69), ('gm-csfr', 66), ('mutants', 64), ('cancer', 62), ('fig', 54), ('activity', 53)]\n",
      "\n",
      " Doc  9\n",
      "[('cbl', 154), ('c', 71), ('gm-csf', 70), ('phosphorylation', 69), ('gm-csfr', 66), ('tf-1', 49), ('jak2', 49), ('mutants', 48), ('expression', 45), ('enhanced', 43)]\n"
     ]
    }
   ],
   "source": [
    "for i in range(10):\n",
    "    print('\\n Doc ', str(i))\n",
    "    stopCheck = Counter(trainText[i].split())\n",
    "    print(stopCheck.most_common()[:10])"
   ]
  },
  {
   "cell_type": "markdown",
   "metadata": {
    "_cell_guid": "4c565a4f-fc57-4f21-b977-33bf7bcf97f8",
    "_uuid": "99902141d262e8be4f7b7a1428f36abd3f47bf31"
   },
   "source": [
    "There looks like a lot of similarity here just by a quick visual examination. "
   ]
  },
  {
   "cell_type": "code",
   "execution_count": 17,
   "metadata": {
    "ExecuteTime": {
     "end_time": "2017-09-23T16:28:48.813163Z",
     "start_time": "2017-09-23T16:28:38.783979Z"
    },
    "_cell_guid": "c146ac32-6074-40f8-93b4-33666a61ce4b",
    "_execution_state": "idle",
    "_uuid": "f82b23c6addca196f6319c986fd6b526d6ebdc10"
   },
   "outputs": [
    {
     "data": {
      "text/plain": [
       "<matplotlib.text.Text at 0x27b3e05edd8>"
      ]
     },
     "execution_count": 17,
     "metadata": {},
     "output_type": "execute_result"
    },
    {
     "data": {
      "image/png": "[encoded data removed]",
      "text/plain": [
       "<matplotlib.figure.Figure at 0x27b770bcfd0>"
      ]
     },
     "metadata": {},
     "output_type": "display_data"
    }
   ],
   "source": [
    "tops = Counter(str(trainText).split()).most_common()[:20]\n",
    "labs, vals = zip(*tops)\n",
    "idx = np.arange(len(labs))\n",
    "wid=0.6\n",
    "fig, ax=plt.subplots(1,1,figsize=(14,8))\n",
    "ax=plt.bar(idx, vals, wid, color='g')\n",
    "ax=plt.xticks(idx - wid/8, labs, rotation=25, size=14)\n",
    "plt.title('Top Twenty Counts of Most-Common Words Among Text')"
   ]
  },
  {
   "cell_type": "code",
   "execution_count": 18,
   "metadata": {
    "ExecuteTime": {
     "end_time": "2017-09-23T16:28:48.896172Z",
     "start_time": "2017-09-23T16:28:48.815164Z"
    },
    "_cell_guid": "13e4349c-6b67-4fda-887b-3ca51dfe495c",
    "_execution_state": "idle",
    "_uuid": "b68a70e110c502291d84680cab06e51198952662"
   },
   "outputs": [
    {
     "data": {
      "text/plain": [
       "28963"
      ]
     },
     "execution_count": 18,
     "metadata": {},
     "output_type": "execute_result"
    }
   ],
   "source": [
    "gc.collect()"
   ]
  },
  {
   "cell_type": "markdown",
   "metadata": {
    "_cell_guid": "14dc7d5c-1f3e-4133-b2a1-3544f8a39c68",
    "_uuid": "067efeba2b4b065391eaf87d41bc260c3607cc6f"
   },
   "source": [
    "There is some weight on the far left of this plot. Lets throw these words into another stop word check and re examine. If we really worked this into the mix, we could probably use the max_df setting in the TFIDF and Count Vectorizers below. \n",
    "\n",
    "A few time through this and I think we should drop some more words than just the top 20. Lets try 30."
   ]
  },
  {
   "cell_type": "code",
   "execution_count": 19,
   "metadata": {
    "ExecuteTime": {
     "end_time": "2017-09-23T16:28:58.630934Z",
     "start_time": "2017-09-23T16:28:48.900674Z"
    },
    "_cell_guid": "676981fd-092b-43a2-a9e7-c7dc5f37478e",
    "_execution_state": "idle",
    "_uuid": "390c14306d530eaa4bf129c4de48563ccf5c4861",
    "collapsed": true
   },
   "outputs": [],
   "source": [
    "topsInc = Counter(str(trainText).split()).most_common()[:50]\n",
    "labsInc, valsInc = zip(*topsInc)"
   ]
  },
  {
   "cell_type": "code",
   "execution_count": 20,
   "metadata": {
    "ExecuteTime": {
     "end_time": "2017-09-23T16:28:58.708943Z",
     "start_time": "2017-09-23T16:28:58.633435Z"
    },
    "_cell_guid": "b3a045e0-26e1-4191-9dd7-b3a73edab6f7",
    "_execution_state": "idle",
    "_uuid": "1e4836fd069992a92db8a27c22326b8ef1124874"
   },
   "outputs": [
    {
     "data": {
      "text/plain": [
       "0"
      ]
     },
     "execution_count": 20,
     "metadata": {},
     "output_type": "execute_result"
    }
   ],
   "source": [
    "gc.collect()"
   ]
  },
  {
   "cell_type": "code",
   "execution_count": 21,
   "metadata": {
    "ExecuteTime": {
     "end_time": "2017-09-23T16:28:58.718444Z",
     "start_time": "2017-09-23T16:28:58.711444Z"
    },
    "_cell_guid": "4d01b950-67e2-49be-93cb-415b93e7cd32",
    "_execution_state": "idle",
    "_uuid": "d51ad6696f27546f0cd5e5806e876c7ac7aa1129",
    "collapsed": true
   },
   "outputs": [],
   "source": [
    "def stopCheck(text, stops):\n",
    "    text = text.split()\n",
    "    text = [w for w in text if not w in stops]    \n",
    "    text = \" \".join(text)\n",
    "    return text"
   ]
  },
  {
   "cell_type": "code",
   "execution_count": 22,
   "metadata": {
    "ExecuteTime": {
     "end_time": "2017-09-23T16:30:01.535899Z",
     "start_time": "2017-09-23T16:28:58.721945Z"
    },
    "_cell_guid": "5bc9ec9c-ef03-48b1-8137-4449afb74338",
    "_execution_state": "idle",
    "_uuid": "c822879f99e029e06ed63793fad4d3da23537d8e",
    "collapsed": true
   },
   "outputs": [],
   "source": [
    "trainText2 = []\n",
    "for it in trainText:\n",
    "    newT = stopCheck(it,labsInc)\n",
    "    trainText2.append(newT)\n",
    "    \n",
    "testText2 = []\n",
    "for it in testText:\n",
    "    newT = stopCheck(it,labsInc)\n",
    "    testText2.append(newT)"
   ]
  },
  {
   "cell_type": "code",
   "execution_count": 23,
   "metadata": {
    "ExecuteTime": {
     "end_time": "2017-09-23T16:30:10.671989Z",
     "start_time": "2017-09-23T16:30:01.538399Z"
    },
    "_cell_guid": "f74d2b8d-7648-401c-8bfd-dc07db96abe9",
    "_execution_state": "idle",
    "_uuid": "27c7b8be033500591260b2702c5c3ec1294d07f6"
   },
   "outputs": [
    {
     "data": {
      "text/plain": [
       "<matplotlib.text.Text at 0x27b0f0efe48>"
      ]
     },
     "execution_count": 23,
     "metadata": {},
     "output_type": "execute_result"
    },
    {
     "data": {
      "image/png": "[encoded data removed]",
      "text/plain": [
       "<matplotlib.figure.Figure at 0x27b45f15898>"
      ]
     },
     "metadata": {},
     "output_type": "display_data"
    }
   ],
   "source": [
    "tops = Counter(str(trainText2).split()).most_common()[:20]\n",
    "labs, vals = zip(*tops)\n",
    "idx = np.arange(len(labs))\n",
    "wid=0.6\n",
    "fig, ax=plt.subplots(1,1,figsize=(14,8))\n",
    "ax=plt.bar(idx, vals, wid, color='b')\n",
    "ax=plt.xticks(idx - wid/8, labs, rotation=25, size=14)\n",
    "plt.title('Top Twenty Counts of Most-Common Words Among Text')"
   ]
  },
  {
   "cell_type": "markdown",
   "metadata": {
    "_cell_guid": "fda019a6-19d7-44e5-955a-54c0431cb807",
    "_uuid": "7b818a428426ff1771ae26a64981ab274d6e51e3"
   },
   "source": [
    "This looks a little more balanced so we will go with this set of texts."
   ]
  },
  {
   "cell_type": "code",
   "execution_count": 30,
   "metadata": {
    "ExecuteTime": {
     "end_time": "2017-09-23T16:40:21.586140Z",
     "start_time": "2017-09-23T16:40:21.563636Z"
    },
    "collapsed": true
   },
   "outputs": [],
   "source": [
    "class MySentences(object):\n",
    "    \"\"\"MySentences is a generator to produce a list of tokenized sentences \n",
    "    \n",
    "    Takes a list of numpy arrays containing documents.\n",
    "    \n",
    "    Args:\n",
    "        arrays: List of arrays, where each element in the array contains a document.\n",
    "    \"\"\"\n",
    "    def __init__(self, *arrays):\n",
    "        self.arrays = arrays\n",
    " \n",
    "    def __iter__(self):\n",
    "        for array in self.arrays:\n",
    "            for document in array:\n",
    "                for sent in nltk.sent_tokenize(document):\n",
    "                    yield nltk.word_tokenize(sent)\n",
    "\n",
    "def get_word2vec(sentences, location):\n",
    "    \"\"\"Returns trained word2vec\n",
    "    \n",
    "    Args:\n",
    "        sentences: iterator for sentences\n",
    "        \n",
    "        location (str): Path to save/load word2vec\n",
    "    \"\"\"\n",
    "    if os.path.exists(location):\n",
    "        print('Found {}'.format(location))\n",
    "        model = gensim.models.Word2Vec.load(location)\n",
    "        return model\n",
    "    \n",
    "    print('{} not found. training model'.format(location))\n",
    "    model = gensim.models.Word2Vec(sentences, size=100, window=5, min_count=5, workers=4)\n",
    "    print('Model done training. Saving to disk')\n",
    "    model.save(location)\n",
    "    return model"
   ]
  },
  {
   "cell_type": "code",
   "execution_count": null,
   "metadata": {
    "ExecuteTime": {
     "start_time": "2017-09-23T16:42:53.439Z"
    }
   },
   "outputs": [
    {
     "name": "stdout",
     "output_type": "stream",
     "text": [
      "w2vmodel not found. training model\n"
     ]
    }
   ],
   "source": [
    "import os\n",
    "import gensim\n",
    "import nltk\n",
    "w2vec = get_word2vec(\n",
    "    MySentences(\n",
    "        trainText2,\n",
    "        testText2\n",
    "    ),\n",
    "    'w2vmodel'\n",
    ")"
   ]
  },
  {
   "cell_type": "code",
   "execution_count": null,
   "metadata": {
    "collapsed": true
   },
   "outputs": [],
   "source": []
  },
  {
   "cell_type": "code",
   "execution_count": null,
   "metadata": {
    "collapsed": true
   },
   "outputs": [],
   "source": []
  },
  {
   "cell_type": "code",
   "execution_count": null,
   "metadata": {
    "collapsed": true
   },
   "outputs": [],
   "source": []
  },
  {
   "cell_type": "code",
   "execution_count": null,
   "metadata": {
    "collapsed": true
   },
   "outputs": [],
   "source": [
    "#######################"
   ]
  },
  {
   "cell_type": "code",
   "execution_count": null,
   "metadata": {
    "_cell_guid": "785cdbef-901b-40db-a858-f18b588a1971",
    "_execution_state": "idle",
    "_uuid": "129d1d035127e5b731d9f3c67be39645fc29b465",
    "collapsed": true
   },
   "outputs": [],
   "source": [
    "maxFeats = 500"
   ]
  },
  {
   "cell_type": "code",
   "execution_count": 29,
   "metadata": {
    "_cell_guid": "d9e1721b-ae8e-47b7-8b47-766b0dfb9543",
    "_execution_state": "idle",
    "_uuid": "ed54ee4c7cbe5f54304cd98e26d38a8bf9c4431c"
   },
   "outputs": [
    {
     "data": {
      "text/plain": [
       "TfidfVectorizer(analyzer='word', binary=False, decode_error='strict',\n",
       "        dtype=<class 'numpy.int64'>, encoding='utf-8', input='content',\n",
       "        lowercase=True, max_df=1.0, max_features=500, min_df=5,\n",
       "        ngram_range=(1, 3), norm='l2', preprocessor=None, smooth_idf=True,\n",
       "        stop_words='english', strip_accents='unicode', sublinear_tf=True,\n",
       "        token_pattern='\\\\w+', tokenizer=None, use_idf=True,\n",
       "        vocabulary=None)"
      ]
     },
     "execution_count": 29,
     "metadata": {},
     "output_type": "execute_result"
    }
   ],
   "source": [
    "tfidf = TfidfVectorizer(min_df=5, max_features=maxFeats, ngram_range=(1,3),\n",
    "                        strip_accents='unicode',\n",
    "                        lowercase =True, analyzer='word', token_pattern=r'\\w+',\n",
    "                        use_idf=True, smooth_idf=True, sublinear_tf=True, \n",
    "                        stop_words = 'english')\n",
    "tfidf.fit(trainText2)"
   ]
  },
  {
   "cell_type": "code",
   "execution_count": 30,
   "metadata": {
    "_cell_guid": "cb1ac754-b9a6-439b-a406-cddedcd5483f",
    "_execution_state": "idle",
    "_uuid": "cc6d24f7e6b14f9e68ef9c9ff0c7aee4072b39af"
   },
   "outputs": [
    {
     "data": {
      "text/plain": [
       "CountVectorizer(analyzer='word', binary=False, decode_error='strict',\n",
       "        dtype=<class 'numpy.int64'>, encoding='utf-8', input='content',\n",
       "        lowercase=True, max_df=1.0, max_features=500, min_df=5,\n",
       "        ngram_range=(1, 3), preprocessor=None, stop_words='english',\n",
       "        strip_accents='unicode', token_pattern='\\\\w+', tokenizer=None,\n",
       "        vocabulary=None)"
      ]
     },
     "execution_count": 30,
     "metadata": {},
     "output_type": "execute_result"
    }
   ],
   "source": [
    "cvec = CountVectorizer(min_df=5, ngram_range=(1,3), max_features=maxFeats, \n",
    "                       strip_accents='unicode',\n",
    "                       lowercase =True, analyzer='word', token_pattern=r'\\w+',\n",
    "                       stop_words = 'english')\n",
    "cvec.fit(trainText2)"
   ]
  },
  {
   "cell_type": "markdown",
   "metadata": {
    "_cell_guid": "7849d775-0d8e-47b1-b51e-61fdb7964fcc",
    "_uuid": "3986e5f22baf5a9e9d114f700941194c736caa26"
   },
   "source": [
    "_3321x8595819 sparse matrix of type 'class 'numpy.int64''\n",
    "\twith 38030516 stored elements in Compressed Sparse Row format_\n",
    "    \n",
    "This is the print output of just using nGram features 1-3. Its kind of a large item to pass around even if its sparse so limiting the maximum features helps in here."
   ]
  },
  {
   "cell_type": "code",
   "execution_count": 82,
   "metadata": {
    "_cell_guid": "1b36d618-0864-4623-8866-8637553e9eed",
    "_execution_state": "idle",
    "_uuid": "1189bf0b16b02dd8b2467d4e936213e15faa8f33",
    "collapsed": true
   },
   "outputs": [],
   "source": [
    "## I played around with the componenets and 360-390 seemed to work best for me...\n",
    "svdT = TruncatedSVD(n_components=450)\n",
    "svdTFit = svdT.fit_transform(tfidf.transform(trainText2))"
   ]
  },
  {
   "cell_type": "markdown",
   "metadata": {
    "_cell_guid": "e6ad94ca-4dfc-445b-8861-6919bccaa59e",
    "_uuid": "d2263106781cbd3fc6e075ad33a1c7be2f33f3fb"
   },
   "source": [
    "This is something I did in other comps that helped out some in feature building. "
   ]
  },
  {
   "cell_type": "code",
   "execution_count": 80,
   "metadata": {
    "_cell_guid": "bcb3a85c-9bb5-4d52-8db5-d7a9b8a079fc",
    "_execution_state": "idle",
    "_uuid": "b18a08198a8c3acadaebf685e1aaad952c74f1ad",
    "collapsed": true
   },
   "outputs": [],
   "source": [
    "def buildFeats(texts, variations):\n",
    "    temp = variations.copy()\n",
    "    print('Encoding...')\n",
    "    temp['Gene'] = pd.factorize(variations['Gene'])[0]\n",
    "    temp['Variation'] = pd.factorize(variations['Variation'])[0]\n",
    "    temp['Gene_to_Variation_Ratio'] = temp['Gene']/temp['Variation']\n",
    "    \n",
    "    print('Lengths...')\n",
    "    temp['doc_len'] = [len(x) for x in texts]\n",
    "    temp['unique_words'] = [len(set(x))  for x in texts]\n",
    "    \n",
    "    print('TFIDF...')\n",
    "    temp_tfidf = tfidf.transform(texts)\n",
    "    temp['tfidf_sum'] = temp_tfidf.sum(axis=1)\n",
    "    temp['tfidf_mean'] = temp_tfidf.mean(axis=1)\n",
    "    temp['tfidf_len'] =  (temp_tfidf != 0).sum(axis = 1)\n",
    "    \n",
    "    print('Count Vecs...')\n",
    "    temp_cvec = cvec.transform(texts)\n",
    "    temp['cvec_sum'] = temp_cvec.sum(axis=1)\n",
    "    temp['cvec_mean'] = temp_cvec.mean(axis=1)\n",
    "    temp['cvec_len'] =  (temp_cvec != 0).sum(axis = 1)\n",
    "    \n",
    "    print('Latent Semantic Analysis Cols...')\n",
    "    tempc = list(temp.columns)\n",
    "    temp_lsa = svdT.transform(temp_tfidf)\n",
    "    \n",
    "    for i in range(np.shape(temp_lsa)[1]):\n",
    "        tempc.append('lsa'+str(i+1))\n",
    "    temp = pd.concat([temp, pd.DataFrame(temp_lsa, index=temp.index)], axis=1)\n",
    "    \n",
    "    return temp, tempc"
   ]
  },
  {
   "cell_type": "code",
   "execution_count": 83,
   "metadata": {
    "_cell_guid": "1f2343ca-1dd5-448c-ae34-ae9b3121c0a8",
    "_execution_state": "idle",
    "_uuid": "6c2109406767c52a74ccb2ca3cd90c3e544758f5"
   },
   "outputs": [
    {
     "name": "stdout",
     "output_type": "stream",
     "text": [
      "Encoding...\n",
      "Lengths...\n",
      "TFIDF...\n",
      "Count Vecs...\n",
      "Latent Semantic Analysis Cols...\n",
      "Encoding...\n",
      "Lengths...\n",
      "TFIDF...\n",
      "Count Vecs...\n",
      "Latent Semantic Analysis Cols...\n"
     ]
    }
   ],
   "source": [
    "trainDf, traincol = buildFeats(trainText2, tVars)\n",
    "testDf, testcol = buildFeats(testText2, vVars)"
   ]
  },
  {
   "cell_type": "code",
   "execution_count": 84,
   "metadata": {
    "_cell_guid": "81b4ca5c-353e-4b1f-ab2f-c4b2583e1daa",
    "_execution_state": "idle",
    "_uuid": "979736f82444e5b115b7af3211396f7da70723e4",
    "collapsed": true
   },
   "outputs": [],
   "source": [
    "trainDf.columns = traincol\n",
    "testDf.columns = testcol"
   ]
  },
  {
   "cell_type": "markdown",
   "metadata": {
    "_cell_guid": "e5251e06-2590-4849-aef7-b6d1117bf288",
    "_uuid": "79972ea7b927c35e90b9539cc25432f041895108"
   },
   "source": [
    "In order to get the right prediction we have to get the classes in the range of 0-8."
   ]
  },
  {
   "cell_type": "code",
   "execution_count": 85,
   "metadata": {
    "_cell_guid": "ae9d17ec-0292-4e9b-bd97-f18ce2a48a62",
    "_execution_state": "idle",
    "_uuid": "eac5408d27172ac77dba108dcc3035888a8123f4"
   },
   "outputs": [
    {
     "name": "stdout",
     "output_type": "stream",
     "text": [
      "Original: Counter({7: 953, 4: 686, 1: 568, 2: 452, 6: 275, 5: 242, 3: 89, 9: 37, 8: 19}) \n",
      " ReHashed: Counter({6: 953, 3: 686, 0: 568, 1: 452, 5: 275, 4: 242, 2: 89, 8: 37, 7: 19})\n"
     ]
    }
   ],
   "source": [
    "classes = tVars.Class - 1\n",
    "print('Original:', Counter(tVars.Class), '\\n ReHashed:', Counter(classes))"
   ]
  },
  {
   "cell_type": "code",
   "execution_count": 86,
   "metadata": {
    "_cell_guid": "ded543a0-48b3-424d-b939-1d6e7092c586",
    "_execution_state": "idle",
    "_uuid": "1cb89434694f46129a8515fc3b6690662ed5cd08"
   },
   "outputs": [
    {
     "name": "stdout",
     "output_type": "stream",
     "text": [
      "(2988, 461)\n"
     ]
    }
   ],
   "source": [
    "dft, dfv, yt, yv = train_test_split(trainDf.drop(['ID','Class'],axis=1),\n",
    "                                    classes,\n",
    "                                    test_size = 0.1,\n",
    "                                    random_state=31415)\n",
    "print(np.shape(dft))"
   ]
  },
  {
   "cell_type": "code",
   "execution_count": 68,
   "metadata": {
    "scrolled": true
   },
   "outputs": [
    {
     "name": "stdout",
     "output_type": "stream",
     "text": [
      "[0]\tvalidation_0-mlogloss:2.07962\n",
      "Will train until validation_0-mlogloss hasn't improved in 25 rounds.\n",
      "[1]\tvalidation_0-mlogloss:1.98775\n",
      "[2]\tvalidation_0-mlogloss:1.90691\n",
      "[3]\tvalidation_0-mlogloss:1.83401\n",
      "[4]\tvalidation_0-mlogloss:1.77069\n",
      "[5]\tvalidation_0-mlogloss:1.71687\n",
      "[6]\tvalidation_0-mlogloss:1.66697\n",
      "[7]\tvalidation_0-mlogloss:1.61844\n",
      "[8]\tvalidation_0-mlogloss:1.57862\n",
      "[9]\tvalidation_0-mlogloss:1.53902\n",
      "[10]\tvalidation_0-mlogloss:1.50537\n",
      "[11]\tvalidation_0-mlogloss:1.47284\n",
      "[12]\tvalidation_0-mlogloss:1.44606\n",
      "[13]\tvalidation_0-mlogloss:1.41948\n",
      "[14]\tvalidation_0-mlogloss:1.39599\n",
      "[15]\tvalidation_0-mlogloss:1.37112\n",
      "[16]\tvalidation_0-mlogloss:1.34635\n",
      "[17]\tvalidation_0-mlogloss:1.32389\n",
      "[18]\tvalidation_0-mlogloss:1.305\n",
      "[19]\tvalidation_0-mlogloss:1.28734\n",
      "[20]\tvalidation_0-mlogloss:1.27094\n",
      "[21]\tvalidation_0-mlogloss:1.25519\n",
      "[22]\tvalidation_0-mlogloss:1.24074\n",
      "[23]\tvalidation_0-mlogloss:1.22795\n",
      "[24]\tvalidation_0-mlogloss:1.21365\n",
      "[25]\tvalidation_0-mlogloss:1.20332\n",
      "[26]\tvalidation_0-mlogloss:1.19136\n",
      "[27]\tvalidation_0-mlogloss:1.18155\n",
      "[28]\tvalidation_0-mlogloss:1.1708\n",
      "[29]\tvalidation_0-mlogloss:1.16008\n",
      "[30]\tvalidation_0-mlogloss:1.15055\n",
      "[31]\tvalidation_0-mlogloss:1.14142\n",
      "[32]\tvalidation_0-mlogloss:1.13495\n",
      "[33]\tvalidation_0-mlogloss:1.12618\n",
      "[34]\tvalidation_0-mlogloss:1.11639\n",
      "[35]\tvalidation_0-mlogloss:1.10918\n",
      "[36]\tvalidation_0-mlogloss:1.10114\n",
      "[37]\tvalidation_0-mlogloss:1.09286\n",
      "[38]\tvalidation_0-mlogloss:1.08604\n",
      "[39]\tvalidation_0-mlogloss:1.0806\n",
      "[40]\tvalidation_0-mlogloss:1.07588\n",
      "[41]\tvalidation_0-mlogloss:1.06941\n",
      "[42]\tvalidation_0-mlogloss:1.06565\n",
      "[43]\tvalidation_0-mlogloss:1.06214\n",
      "[44]\tvalidation_0-mlogloss:1.05725\n",
      "[45]\tvalidation_0-mlogloss:1.05261\n",
      "[46]\tvalidation_0-mlogloss:1.04699\n",
      "[47]\tvalidation_0-mlogloss:1.04072\n",
      "[48]\tvalidation_0-mlogloss:1.03757\n",
      "[49]\tvalidation_0-mlogloss:1.03465\n",
      "[50]\tvalidation_0-mlogloss:1.03002\n",
      "[51]\tvalidation_0-mlogloss:1.02641\n",
      "[52]\tvalidation_0-mlogloss:1.02282\n",
      "[53]\tvalidation_0-mlogloss:1.01988\n",
      "[54]\tvalidation_0-mlogloss:1.01671\n",
      "[55]\tvalidation_0-mlogloss:1.01442\n",
      "[56]\tvalidation_0-mlogloss:1.0133\n",
      "[57]\tvalidation_0-mlogloss:1.01172\n",
      "[58]\tvalidation_0-mlogloss:1.00835\n",
      "[59]\tvalidation_0-mlogloss:1.00689\n",
      "[60]\tvalidation_0-mlogloss:1.00547\n",
      "[61]\tvalidation_0-mlogloss:1.00384\n",
      "[62]\tvalidation_0-mlogloss:1.00266\n",
      "[63]\tvalidation_0-mlogloss:1.00205\n",
      "[64]\tvalidation_0-mlogloss:0.999683\n",
      "[65]\tvalidation_0-mlogloss:0.998066\n",
      "[66]\tvalidation_0-mlogloss:0.996955\n",
      "[67]\tvalidation_0-mlogloss:0.995502\n",
      "[68]\tvalidation_0-mlogloss:0.994231\n",
      "[69]\tvalidation_0-mlogloss:0.992675\n",
      "[70]\tvalidation_0-mlogloss:0.990414\n",
      "[71]\tvalidation_0-mlogloss:0.989089\n",
      "[72]\tvalidation_0-mlogloss:0.986887\n",
      "[73]\tvalidation_0-mlogloss:0.986323\n",
      "[74]\tvalidation_0-mlogloss:0.984427\n",
      "[75]\tvalidation_0-mlogloss:0.984238\n",
      "[76]\tvalidation_0-mlogloss:0.983077\n",
      "[77]\tvalidation_0-mlogloss:0.982557\n",
      "[78]\tvalidation_0-mlogloss:0.981872\n",
      "[79]\tvalidation_0-mlogloss:0.982684\n",
      "[80]\tvalidation_0-mlogloss:0.983908\n",
      "[81]\tvalidation_0-mlogloss:0.984105\n",
      "[82]\tvalidation_0-mlogloss:0.98269\n",
      "[83]\tvalidation_0-mlogloss:0.98198\n",
      "[84]\tvalidation_0-mlogloss:0.981078\n",
      "[85]\tvalidation_0-mlogloss:0.980642\n",
      "[86]\tvalidation_0-mlogloss:0.980676\n",
      "[87]\tvalidation_0-mlogloss:0.979892\n",
      "[88]\tvalidation_0-mlogloss:0.979827\n",
      "[89]\tvalidation_0-mlogloss:0.980309\n",
      "[90]\tvalidation_0-mlogloss:0.981049\n",
      "[91]\tvalidation_0-mlogloss:0.981236\n",
      "[92]\tvalidation_0-mlogloss:0.979886\n",
      "[93]\tvalidation_0-mlogloss:0.979364\n",
      "[94]\tvalidation_0-mlogloss:0.97931\n",
      "[95]\tvalidation_0-mlogloss:0.978895\n",
      "[96]\tvalidation_0-mlogloss:0.977502\n",
      "[97]\tvalidation_0-mlogloss:0.978312\n",
      "[98]\tvalidation_0-mlogloss:0.977359\n",
      "[99]\tvalidation_0-mlogloss:0.976228\n",
      "[100]\tvalidation_0-mlogloss:0.976823\n",
      "[101]\tvalidation_0-mlogloss:0.977275\n",
      "[102]\tvalidation_0-mlogloss:0.976846\n",
      "[103]\tvalidation_0-mlogloss:0.976891\n",
      "[104]\tvalidation_0-mlogloss:0.977096\n",
      "[105]\tvalidation_0-mlogloss:0.977189\n",
      "[106]\tvalidation_0-mlogloss:0.977875\n",
      "[107]\tvalidation_0-mlogloss:0.978181\n",
      "[108]\tvalidation_0-mlogloss:0.977749\n",
      "[109]\tvalidation_0-mlogloss:0.977088\n",
      "[110]\tvalidation_0-mlogloss:0.978295\n",
      "[111]\tvalidation_0-mlogloss:0.976519\n",
      "[112]\tvalidation_0-mlogloss:0.975699\n",
      "[113]\tvalidation_0-mlogloss:0.976536\n",
      "[114]\tvalidation_0-mlogloss:0.977441\n",
      "[115]\tvalidation_0-mlogloss:0.977372\n",
      "[116]\tvalidation_0-mlogloss:0.979162\n",
      "[117]\tvalidation_0-mlogloss:0.979601\n",
      "[118]\tvalidation_0-mlogloss:0.979711\n",
      "[119]\tvalidation_0-mlogloss:0.980231\n",
      "[120]\tvalidation_0-mlogloss:0.979764\n",
      "[121]\tvalidation_0-mlogloss:0.979759\n",
      "[122]\tvalidation_0-mlogloss:0.982297\n",
      "[123]\tvalidation_0-mlogloss:0.982531\n",
      "[124]\tvalidation_0-mlogloss:0.982969\n",
      "[125]\tvalidation_0-mlogloss:0.983389\n",
      "[126]\tvalidation_0-mlogloss:0.983928\n",
      "[127]\tvalidation_0-mlogloss:0.984193\n",
      "[128]\tvalidation_0-mlogloss:0.98445\n",
      "[129]\tvalidation_0-mlogloss:0.985478\n",
      "[130]\tvalidation_0-mlogloss:0.985685\n",
      "[131]\tvalidation_0-mlogloss:0.985477\n",
      "[132]\tvalidation_0-mlogloss:0.98563\n",
      "[133]\tvalidation_0-mlogloss:0.986693\n",
      "[134]\tvalidation_0-mlogloss:0.986726\n",
      "[135]\tvalidation_0-mlogloss:0.987759\n",
      "[136]\tvalidation_0-mlogloss:0.988823\n",
      "[137]\tvalidation_0-mlogloss:0.988863\n",
      "Stopping. Best iteration:\n",
      "[112]\tvalidation_0-mlogloss:0.975699\n",
      "\n"
     ]
    },
    {
     "data": {
      "text/plain": [
       "XGBClassifier(base_score=0.5, booster='gbtree', colsample_bylevel=1,\n",
       "       colsample_bytree=0.8, gamma=0, learning_rate=0.075,\n",
       "       max_delta_step=0, max_depth=5, min_child_weight=2, missing=None,\n",
       "       n_class=9, n_estimators=10000, n_jobs=1, nthread=None,\n",
       "       objective='multi:softprob', random_state=0, reg_alpha=0,\n",
       "       reg_lambda=1, scale_pos_weight=1, seed=1337, silent=False,\n",
       "       subsample=0.8)"
      ]
     },
     "execution_count": 68,
     "metadata": {},
     "output_type": "execute_result"
    }
   ],
   "source": [
    "clf = xgboost.XGBClassifier(learning_rate=0.075, \n",
    "    max_depth = 5,\n",
    "    n_estimators = 10000,\n",
    "    objective = 'multi:softprob',\n",
    "    n_class = 9,\n",
    "    seed = 1337,\n",
    "    silent = False,\n",
    "    subsample = 0.8,\n",
    "    colsample_bytree = 0.8,\n",
    "    min_child_weight = 2)\n",
    "\n",
    "eval_set = [(dfv, yv)]\n",
    "clf.fit(dft, yt, early_stopping_rounds=25, eval_metric=\"mlogloss\", eval_set=eval_set, verbose=True)"
   ]
  },
  {
   "cell_type": "code",
   "execution_count": 37,
   "metadata": {
    "_cell_guid": "eb33094f-bce6-4961-b036-c9decd09688e",
    "_execution_state": "idle",
    "_uuid": "f1775010186be23ef1aad07fff2f9725685df634"
   },
   "outputs": [
    {
     "name": "stdout",
     "output_type": "stream",
     "text": [
      "Format a Train and Validation Set for LGB\n"
     ]
    },
    {
     "data": {
      "text/plain": [
       "136"
      ]
     },
     "execution_count": 37,
     "metadata": {},
     "output_type": "execute_result"
    }
   ],
   "source": [
    "import gc\n",
    "print('Format a Train and Validation Set for LGB')\n",
    "d_train = lgb.Dataset(dft, label=yt)\n",
    "d_val = lgb.Dataset(dfv, label=yv)\n",
    "               \n",
    "gc.collect()"
   ]
  },
  {
   "cell_type": "code",
   "execution_count": 74,
   "metadata": {
    "_cell_guid": "92fd9fcf-54d4-46c2-b6ca-a7038de62dfe",
    "_execution_state": "idle",
    "_uuid": "1c1ff1e22fa950e570c22344e885ad1a58a6c993"
   },
   "outputs": [
    {
     "name": "stderr",
     "output_type": "stream",
     "text": [
      "C:\\Users\\Wegee\\Anaconda3\\lib\\site-packages\\lightgbm\\engine.py:100: UserWarning: Found `num_iterations` in params. Will use it instead of argument\n",
      "  warnings.warn(\"Found `{}` in params. Will use it instead of argument\".format(alias))\n"
     ]
    },
    {
     "name": "stdout",
     "output_type": "stream",
     "text": [
      "Training until validation scores don't improve for 20 rounds.\n",
      "[20]\tdval's multi_logloss: 1.46252\n",
      "[40]\tdval's multi_logloss: 1.20524\n",
      "[60]\tdval's multi_logloss: 1.09537\n",
      "[80]\tdval's multi_logloss: 1.03299\n",
      "[100]\tdval's multi_logloss: 0.996193\n",
      "[120]\tdval's multi_logloss: 0.976366\n",
      "[140]\tdval's multi_logloss: 0.965567\n",
      "[160]\tdval's multi_logloss: 0.964572\n",
      "[180]\tdval's multi_logloss: 0.963602\n",
      "Early stopping, best iteration is:\n",
      "[168]\tdval's multi_logloss: 0.962318\n"
     ]
    }
   ],
   "source": [
    "parms = {'task': 'train',\n",
    "    'boosting_type': 'gbdt',\n",
    "    'objective': 'multiclass',\n",
    "    'num_class': 9,\n",
    "    'metric': {'multi_logloss'},\n",
    "    'learning_rate': 0.05, \n",
    "    'max_depth': 7,\n",
    "    'num_iterations': 1000, \n",
    "    'num_leaves': 95, \n",
    "    'min_data_in_leaf': 60, \n",
    "    'lambda_l1': 1.0,\n",
    "    'feature_fraction': 0.8, \n",
    "    'bagging_fraction': 0.8, \n",
    "    'bagging_freq': 5}\n",
    "\n",
    "rnds = 260\n",
    "mod = lgb.train(parms, train_set=d_train, num_boost_round=rnds,\n",
    "               valid_sets=[d_val], valid_names=['dval'], verbose_eval=20,\n",
    "               early_stopping_rounds=20)\n"
   ]
  },
  {
   "cell_type": "code",
   "execution_count": 39,
   "metadata": {
    "_cell_guid": "1ea3304f-a8d9-486f-bb00-e779b0e098a7",
    "_execution_state": "idle",
    "_uuid": "98f992fbcb0e0e676fcfb169b76ab631eef5e869"
   },
   "outputs": [
    {
     "data": {
      "text/plain": [
       "<matplotlib.axes._subplots.AxesSubplot at 0x1b94be70198>"
      ]
     },
     "execution_count": 39,
     "metadata": {},
     "output_type": "execute_result"
    },
    {
     "data": {
      "image/png": "[encoded data removed]",
      "text/plain": [
       "<matplotlib.figure.Figure at 0x1b955c3f518>"
      ]
     },
     "metadata": {},
     "output_type": "display_data"
    }
   ],
   "source": [
    "import matplotlib.pyplot as plt\n",
    "%matplotlib inline\n",
    "lgb.plot_importance(mod, max_num_features=30, figsize=(14,10))"
   ]
  },
  {
   "cell_type": "code",
   "execution_count": 63,
   "metadata": {
    "_cell_guid": "47b5af88-a5fc-466d-84bb-8e3270d1c378",
    "_execution_state": "idle",
    "_uuid": "657f3527ecc5ff90f7a996836c553a10dd9e4c00",
    "collapsed": true
   },
   "outputs": [],
   "source": [
    "pred = mod.predict(testDf.drop(['ID'],axis=1))"
   ]
  },
  {
   "cell_type": "code",
   "execution_count": 75,
   "metadata": {
    "collapsed": true
   },
   "outputs": [],
   "source": [
    "pred2 = clf.predict_proba(testDf.drop(['ID'], axis=1))"
   ]
  },
  {
   "cell_type": "code",
   "execution_count": 64,
   "metadata": {
    "_cell_guid": "c51b9d74-5148-4b0e-8bcd-63d9aa1ddb6d",
    "_execution_state": "idle",
    "_uuid": "21ddd5c22c78e0ebcf6ab1609fbc82e64876f2d6"
   },
   "outputs": [
    {
     "data": {
      "text/html": [
       "<div>\n",
       "<style>\n",
       "    .dataframe thead tr:only-child th {\n",
       "        text-align: right;\n",
       "    }\n",
       "\n",
       "    .dataframe thead th {\n",
       "        text-align: left;\n",
       "    }\n",
       "\n",
       "    .dataframe tbody tr th {\n",
       "        vertical-align: top;\n",
       "    }\n",
       "</style>\n",
       "<table border=\"1\" class=\"dataframe\">\n",
       "  <thead>\n",
       "    <tr style=\"text-align: right;\">\n",
       "      <th></th>\n",
       "      <th>class1</th>\n",
       "      <th>class2</th>\n",
       "      <th>class3</th>\n",
       "      <th>class4</th>\n",
       "      <th>class5</th>\n",
       "      <th>class6</th>\n",
       "      <th>class7</th>\n",
       "      <th>class8</th>\n",
       "      <th>class9</th>\n",
       "      <th>ID</th>\n",
       "    </tr>\n",
       "  </thead>\n",
       "  <tbody>\n",
       "    <tr>\n",
       "      <th>0</th>\n",
       "      <td>0.594001</td>\n",
       "      <td>0.125248</td>\n",
       "      <td>0.001738</td>\n",
       "      <td>0.013326</td>\n",
       "      <td>0.011763</td>\n",
       "      <td>0.027163</td>\n",
       "      <td>0.221814</td>\n",
       "      <td>0.002787</td>\n",
       "      <td>0.002160</td>\n",
       "      <td>0</td>\n",
       "    </tr>\n",
       "    <tr>\n",
       "      <th>1</th>\n",
       "      <td>0.439139</td>\n",
       "      <td>0.096292</td>\n",
       "      <td>0.001836</td>\n",
       "      <td>0.403677</td>\n",
       "      <td>0.012874</td>\n",
       "      <td>0.011335</td>\n",
       "      <td>0.027228</td>\n",
       "      <td>0.003045</td>\n",
       "      <td>0.004575</td>\n",
       "      <td>1</td>\n",
       "    </tr>\n",
       "    <tr>\n",
       "      <th>2</th>\n",
       "      <td>0.210265</td>\n",
       "      <td>0.147937</td>\n",
       "      <td>0.009468</td>\n",
       "      <td>0.231141</td>\n",
       "      <td>0.046063</td>\n",
       "      <td>0.025940</td>\n",
       "      <td>0.318606</td>\n",
       "      <td>0.004047</td>\n",
       "      <td>0.006533</td>\n",
       "      <td>2</td>\n",
       "    </tr>\n",
       "    <tr>\n",
       "      <th>3</th>\n",
       "      <td>0.180860</td>\n",
       "      <td>0.426035</td>\n",
       "      <td>0.005068</td>\n",
       "      <td>0.035982</td>\n",
       "      <td>0.023366</td>\n",
       "      <td>0.017458</td>\n",
       "      <td>0.303335</td>\n",
       "      <td>0.004163</td>\n",
       "      <td>0.003734</td>\n",
       "      <td>3</td>\n",
       "    </tr>\n",
       "    <tr>\n",
       "      <th>4</th>\n",
       "      <td>0.397544</td>\n",
       "      <td>0.149953</td>\n",
       "      <td>0.003566</td>\n",
       "      <td>0.261191</td>\n",
       "      <td>0.006716</td>\n",
       "      <td>0.021687</td>\n",
       "      <td>0.153578</td>\n",
       "      <td>0.003546</td>\n",
       "      <td>0.002219</td>\n",
       "      <td>4</td>\n",
       "    </tr>\n",
       "  </tbody>\n",
       "</table>\n",
       "</div>"
      ],
      "text/plain": [
       "     class1    class2    class3    class4    class5    class6    class7  \\\n",
       "0  0.594001  0.125248  0.001738  0.013326  0.011763  0.027163  0.221814   \n",
       "1  0.439139  0.096292  0.001836  0.403677  0.012874  0.011335  0.027228   \n",
       "2  0.210265  0.147937  0.009468  0.231141  0.046063  0.025940  0.318606   \n",
       "3  0.180860  0.426035  0.005068  0.035982  0.023366  0.017458  0.303335   \n",
       "4  0.397544  0.149953  0.003566  0.261191  0.006716  0.021687  0.153578   \n",
       "\n",
       "     class8    class9  ID  \n",
       "0  0.002787  0.002160   0  \n",
       "1  0.003045  0.004575   1  \n",
       "2  0.004047  0.006533   2  \n",
       "3  0.004163  0.003734   3  \n",
       "4  0.003546  0.002219   4  "
      ]
     },
     "execution_count": 64,
     "metadata": {},
     "output_type": "execute_result"
    }
   ],
   "source": [
    "sub = pd.DataFrame(pred, index=testDf.index)\n",
    "sub.columns = subfile.columns[1:]\n",
    "sub.index_name = subfile.columns[0]\n",
    "sub['ID'] = testDf.index\n",
    "sub.head()"
   ]
  },
  {
   "cell_type": "code",
   "execution_count": 76,
   "metadata": {},
   "outputs": [
    {
     "data": {
      "text/html": [
       "<div>\n",
       "<style>\n",
       "    .dataframe thead tr:only-child th {\n",
       "        text-align: right;\n",
       "    }\n",
       "\n",
       "    .dataframe thead th {\n",
       "        text-align: left;\n",
       "    }\n",
       "\n",
       "    .dataframe tbody tr th {\n",
       "        vertical-align: top;\n",
       "    }\n",
       "</style>\n",
       "<table border=\"1\" class=\"dataframe\">\n",
       "  <thead>\n",
       "    <tr style=\"text-align: right;\">\n",
       "      <th></th>\n",
       "      <th>class1</th>\n",
       "      <th>class2</th>\n",
       "      <th>class3</th>\n",
       "      <th>class4</th>\n",
       "      <th>class5</th>\n",
       "      <th>class6</th>\n",
       "      <th>class7</th>\n",
       "      <th>class8</th>\n",
       "      <th>class9</th>\n",
       "      <th>ID</th>\n",
       "    </tr>\n",
       "  </thead>\n",
       "  <tbody>\n",
       "    <tr>\n",
       "      <th>0</th>\n",
       "      <td>0.897308</td>\n",
       "      <td>0.065040</td>\n",
       "      <td>0.000876</td>\n",
       "      <td>0.003282</td>\n",
       "      <td>0.002235</td>\n",
       "      <td>0.006148</td>\n",
       "      <td>0.023709</td>\n",
       "      <td>0.000732</td>\n",
       "      <td>0.000670</td>\n",
       "      <td>0</td>\n",
       "    </tr>\n",
       "    <tr>\n",
       "      <th>1</th>\n",
       "      <td>0.530684</td>\n",
       "      <td>0.100548</td>\n",
       "      <td>0.002547</td>\n",
       "      <td>0.288336</td>\n",
       "      <td>0.017001</td>\n",
       "      <td>0.014543</td>\n",
       "      <td>0.032904</td>\n",
       "      <td>0.006391</td>\n",
       "      <td>0.007045</td>\n",
       "      <td>1</td>\n",
       "    </tr>\n",
       "    <tr>\n",
       "      <th>2</th>\n",
       "      <td>0.543469</td>\n",
       "      <td>0.090189</td>\n",
       "      <td>0.008521</td>\n",
       "      <td>0.120420</td>\n",
       "      <td>0.030874</td>\n",
       "      <td>0.018647</td>\n",
       "      <td>0.178177</td>\n",
       "      <td>0.003491</td>\n",
       "      <td>0.006213</td>\n",
       "      <td>2</td>\n",
       "    </tr>\n",
       "    <tr>\n",
       "      <th>3</th>\n",
       "      <td>0.411783</td>\n",
       "      <td>0.375179</td>\n",
       "      <td>0.003227</td>\n",
       "      <td>0.034560</td>\n",
       "      <td>0.013799</td>\n",
       "      <td>0.018670</td>\n",
       "      <td>0.137996</td>\n",
       "      <td>0.001857</td>\n",
       "      <td>0.002928</td>\n",
       "      <td>3</td>\n",
       "    </tr>\n",
       "    <tr>\n",
       "      <th>4</th>\n",
       "      <td>0.541926</td>\n",
       "      <td>0.097135</td>\n",
       "      <td>0.003109</td>\n",
       "      <td>0.138489</td>\n",
       "      <td>0.007136</td>\n",
       "      <td>0.022468</td>\n",
       "      <td>0.183087</td>\n",
       "      <td>0.004848</td>\n",
       "      <td>0.001802</td>\n",
       "      <td>4</td>\n",
       "    </tr>\n",
       "  </tbody>\n",
       "</table>\n",
       "</div>"
      ],
      "text/plain": [
       "     class1    class2    class3    class4    class5    class6    class7  \\\n",
       "0  0.897308  0.065040  0.000876  0.003282  0.002235  0.006148  0.023709   \n",
       "1  0.530684  0.100548  0.002547  0.288336  0.017001  0.014543  0.032904   \n",
       "2  0.543469  0.090189  0.008521  0.120420  0.030874  0.018647  0.178177   \n",
       "3  0.411783  0.375179  0.003227  0.034560  0.013799  0.018670  0.137996   \n",
       "4  0.541926  0.097135  0.003109  0.138489  0.007136  0.022468  0.183087   \n",
       "\n",
       "     class8    class9  ID  \n",
       "0  0.000732  0.000670   0  \n",
       "1  0.006391  0.007045   1  \n",
       "2  0.003491  0.006213   2  \n",
       "3  0.001857  0.002928   3  \n",
       "4  0.004848  0.001802   4  "
      ]
     },
     "execution_count": 76,
     "metadata": {},
     "output_type": "execute_result"
    }
   ],
   "source": [
    "sub = pd.DataFrame(pred2, index=testDf.index)\n",
    "sub.columns = subfile.columns[1:]\n",
    "sub.index_name = subfile.columns[0]\n",
    "sub['ID'] = testDf.index\n",
    "sub.head()"
   ]
  },
  {
   "cell_type": "code",
   "execution_count": 77,
   "metadata": {
    "_cell_guid": "fe1f6fe5-d596-4ccf-848d-6088cf1a2914",
    "_execution_state": "idle",
    "_uuid": "0d0410e0b7ff3d8d4924ac56146052b0b2e0daf7",
    "collapsed": true
   },
   "outputs": [],
   "source": [
    "import datetime\n",
    "now = datetime.datetime.now()\n",
    "sub.to_csv('xgb_'+str(now.strftime(\"%Y-%m-%d-%H-%M\"))+'.csv', index=False)"
   ]
  }
 ],
 "metadata": {
  "kernelspec": {
   "display_name": "Python 3",
   "language": "python",
   "name": "python3"
  },
  "language_info": {
   "codemirror_mode": {
    "name": "ipython",
    "version": 3
   },
   "file_extension": ".py",
   "mimetype": "text/x-python",
   "name": "python",
   "nbconvert_exporter": "python",
   "pygments_lexer": "ipython3",
   "version": "3.6.1"
  }
 },
 "nbformat": 4,
 "nbformat_minor": 1
}
