{
 "cells": [
  {
   "cell_type": "code",
   "execution_count": 51,
   "metadata": {},
   "outputs": [
    {
     "name": "stdout",
     "output_type": "stream",
     "text": [
      "Populating the interactive namespace from numpy and matplotlib\n"
     ]
    }
   ],
   "source": [
    "%pylab inline\n",
    "import pandas as pd\n",
    "\n",
    "import seaborn as sns\n",
    "sns.set_style(\"whitegrid\")"
   ]
  },
  {
   "cell_type": "code",
   "execution_count": 44,
   "metadata": {},
   "outputs": [
    {
     "name": "stderr",
     "output_type": "stream",
     "text": [
      "C:\\Users\\Wignand\\Miniconda3\\envs\\py35\\lib\\site-packages\\ipykernel\\__main__.py:2: ParserWarning: Falling back to the 'python' engine because the 'c' engine does not support regex separators (separators > 1 char and different from '\\s+' are interpreted as regex); you can avoid this warning by specifying engine='python'.\n",
      "  from ipykernel import kernelapp as app\n",
      "C:\\Users\\Wignand\\Miniconda3\\envs\\py35\\lib\\site-packages\\ipykernel\\__main__.py:5: ParserWarning: Falling back to the 'python' engine because the 'c' engine does not support regex separators (separators > 1 char and different from '\\s+' are interpreted as regex); you can avoid this warning by specifying engine='python'.\n"
     ]
    }
   ],
   "source": [
    "df_train_variant = pd.read_csv(\"training_variants\").set_index(\"ID\")\n",
    "df_train_text = pd.read_csv(\"training_text\", delimiter = \"\\|\\|\", skiprows=1, names=['ID', 'Text']).set_index('ID')\n",
    "\n",
    "df_test_variant = pd.read_csv(\"test_variants\").set_index(\"ID\")\n",
    "df_test_text = pd.read_csv(\"test_text\", delimiter = \"\\|\\|\", skiprows = 1, names=[\"ID\", \"Text\"]).set_index(\"ID\")"
   ]
  },
  {
   "cell_type": "code",
   "execution_count": 46,
   "metadata": {},
   "outputs": [],
   "source": [
    "df_train = pd.concat([df_train_variant, df_train_text ], axis=1)\n",
    "df_test = pd.concat([df_test_variant, df_test_text], axis=1)"
   ]
  },
  {
   "cell_type": "code",
   "execution_count": 47,
   "metadata": {},
   "outputs": [
    {
     "data": {
      "text/html": [
       "<div>\n",
       "<style>\n",
       "    .dataframe thead tr:only-child th {\n",
       "        text-align: right;\n",
       "    }\n",
       "\n",
       "    .dataframe thead th {\n",
       "        text-align: left;\n",
       "    }\n",
       "\n",
       "    .dataframe tbody tr th {\n",
       "        vertical-align: top;\n",
       "    }\n",
       "</style>\n",
       "<table border=\"1\" class=\"dataframe\">\n",
       "  <thead>\n",
       "    <tr style=\"text-align: right;\">\n",
       "      <th></th>\n",
       "      <th>Gene</th>\n",
       "      <th>Variation</th>\n",
       "      <th>Class</th>\n",
       "      <th>Text</th>\n",
       "    </tr>\n",
       "    <tr>\n",
       "      <th>ID</th>\n",
       "      <th></th>\n",
       "      <th></th>\n",
       "      <th></th>\n",
       "      <th></th>\n",
       "    </tr>\n",
       "  </thead>\n",
       "  <tbody>\n",
       "    <tr>\n",
       "      <th>0</th>\n",
       "      <td>FAM58A</td>\n",
       "      <td>Truncating Mutations</td>\n",
       "      <td>1</td>\n",
       "      <td>Cyclin-dependent kinases (CDKs) regulate a var...</td>\n",
       "    </tr>\n",
       "    <tr>\n",
       "      <th>1</th>\n",
       "      <td>CBL</td>\n",
       "      <td>W802*</td>\n",
       "      <td>2</td>\n",
       "      <td>Abstract Background  Non-small cell lung canc...</td>\n",
       "    </tr>\n",
       "    <tr>\n",
       "      <th>2</th>\n",
       "      <td>CBL</td>\n",
       "      <td>Q249E</td>\n",
       "      <td>2</td>\n",
       "      <td>Abstract Background  Non-small cell lung canc...</td>\n",
       "    </tr>\n",
       "    <tr>\n",
       "      <th>3</th>\n",
       "      <td>CBL</td>\n",
       "      <td>N454D</td>\n",
       "      <td>3</td>\n",
       "      <td>Recent evidence has demonstrated that acquired...</td>\n",
       "    </tr>\n",
       "    <tr>\n",
       "      <th>4</th>\n",
       "      <td>CBL</td>\n",
       "      <td>L399V</td>\n",
       "      <td>4</td>\n",
       "      <td>Oncogenic mutations in the monomeric Casitas B...</td>\n",
       "    </tr>\n",
       "  </tbody>\n",
       "</table>\n",
       "</div>"
      ],
      "text/plain": [
       "      Gene             Variation  Class  \\\n",
       "ID                                        \n",
       "0   FAM58A  Truncating Mutations      1   \n",
       "1      CBL                 W802*      2   \n",
       "2      CBL                 Q249E      2   \n",
       "3      CBL                 N454D      3   \n",
       "4      CBL                 L399V      4   \n",
       "\n",
       "                                                 Text  \n",
       "ID                                                     \n",
       "0   Cyclin-dependent kinases (CDKs) regulate a var...  \n",
       "1    Abstract Background  Non-small cell lung canc...  \n",
       "2    Abstract Background  Non-small cell lung canc...  \n",
       "3   Recent evidence has demonstrated that acquired...  \n",
       "4   Oncogenic mutations in the monomeric Casitas B...  "
      ]
     },
     "metadata": {},
     "output_type": "display_data"
    },
    {
     "data": {
      "text/html": [
       "<div>\n",
       "<style>\n",
       "    .dataframe thead tr:only-child th {\n",
       "        text-align: right;\n",
       "    }\n",
       "\n",
       "    .dataframe thead th {\n",
       "        text-align: left;\n",
       "    }\n",
       "\n",
       "    .dataframe tbody tr th {\n",
       "        vertical-align: top;\n",
       "    }\n",
       "</style>\n",
       "<table border=\"1\" class=\"dataframe\">\n",
       "  <thead>\n",
       "    <tr style=\"text-align: right;\">\n",
       "      <th></th>\n",
       "      <th>Gene</th>\n",
       "      <th>Variation</th>\n",
       "      <th>Text</th>\n",
       "    </tr>\n",
       "    <tr>\n",
       "      <th>ID</th>\n",
       "      <th></th>\n",
       "      <th></th>\n",
       "      <th></th>\n",
       "    </tr>\n",
       "  </thead>\n",
       "  <tbody>\n",
       "    <tr>\n",
       "      <th>0</th>\n",
       "      <td>ACSL4</td>\n",
       "      <td>R570S</td>\n",
       "      <td>2. This mutation resulted in a myeloproliferat...</td>\n",
       "    </tr>\n",
       "    <tr>\n",
       "      <th>1</th>\n",
       "      <td>NAGLU</td>\n",
       "      <td>P521L</td>\n",
       "      <td>Abstract The Large Tumor Suppressor 1 (LATS1)...</td>\n",
       "    </tr>\n",
       "    <tr>\n",
       "      <th>2</th>\n",
       "      <td>PAH</td>\n",
       "      <td>L333F</td>\n",
       "      <td>Vascular endothelial growth factor receptor (V...</td>\n",
       "    </tr>\n",
       "    <tr>\n",
       "      <th>3</th>\n",
       "      <td>ING1</td>\n",
       "      <td>A148D</td>\n",
       "      <td>Inflammatory myofibroblastic tumor (IMT) is a ...</td>\n",
       "    </tr>\n",
       "    <tr>\n",
       "      <th>4</th>\n",
       "      <td>TMEM216</td>\n",
       "      <td>G77A</td>\n",
       "      <td>Abstract Retinoblastoma is a pediatric retina...</td>\n",
       "    </tr>\n",
       "  </tbody>\n",
       "</table>\n",
       "</div>"
      ],
      "text/plain": [
       "       Gene Variation                                               Text\n",
       "ID                                                                      \n",
       "0     ACSL4     R570S  2. This mutation resulted in a myeloproliferat...\n",
       "1     NAGLU     P521L   Abstract The Large Tumor Suppressor 1 (LATS1)...\n",
       "2       PAH     L333F  Vascular endothelial growth factor receptor (V...\n",
       "3      ING1     A148D  Inflammatory myofibroblastic tumor (IMT) is a ...\n",
       "4   TMEM216      G77A   Abstract Retinoblastoma is a pediatric retina..."
      ]
     },
     "metadata": {},
     "output_type": "display_data"
    }
   ],
   "source": [
    "display(df_train.head())\n",
    "display(df_test.head())"
   ]
  },
  {
   "cell_type": "code",
   "execution_count": 48,
   "metadata": {},
   "outputs": [
    {
     "name": "stdout",
     "output_type": "stream",
     "text": [
      "BRCA1     264\n",
      "TP53      163\n",
      "EGFR      141\n",
      "PTEN      126\n",
      "BRCA2     125\n",
      "KIT        99\n",
      "BRAF       93\n",
      "ERBB2      69\n",
      "ALK        69\n",
      "PDGFRA     60\n",
      "Name: Gene, dtype: int64\n",
      "7    953\n",
      "4    686\n",
      "1    568\n",
      "2    452\n",
      "6    275\n",
      "5    242\n",
      "3     89\n",
      "9     37\n",
      "8     19\n",
      "Name: Class, dtype: int64\n",
      "F8      134\n",
      "CFTR     57\n",
      "F9       54\n",
      "G6PD     46\n",
      "GBA      39\n",
      "AR       38\n",
      "PAH      38\n",
      "CASR     37\n",
      "ARSA     30\n",
      "VWF      29\n",
      "Name: Gene, dtype: int64\n"
     ]
    }
   ],
   "source": [
    "print(df_train[\"Gene\"].value_counts()[:10])\n",
    "print(df_train[\"Class\"].value_counts())\n",
    "\n",
    "print(df_test[\"Gene\"].value_counts()[:10])"
   ]
  },
  {
   "cell_type": "code",
   "execution_count": 113,
   "metadata": {},
   "outputs": [
    {
     "data": {
      "image/png": "[encoded data removed]",
      "text/plain": [
       "<matplotlib.figure.Figure at 0xa35c29d358>"
      ]
     },
     "metadata": {},
     "output_type": "display_data"
    }
   ],
   "source": [
    "most_common_train = df_train[\"Gene\"].value_counts()[:25] \n",
    "most_common_genes = most_common_train.index\n",
    "df_train_most_common = df_train[df_train[\"Gene\"].isin(most_common_genes)]\n",
    "df_train_most_common_counts = df_train_most_common[\"Gene\"].value_counts()\n",
    "\n",
    "most_common_test = df_test[\"Gene\"].value_counts()[:25] \n",
    "most_common_genes = most_common_test.index\n",
    "df_test_most_common = df_test[df_test[\"Gene\"].isin(most_common_genes)]\n",
    "df_test_most_common_counts = df_test_most_common[\"Gene\"].value_counts()\n",
    "\n",
    "plt.figure(figsize=(15,10))\n",
    "ax = plt.subplot(211)\n",
    "df_train_most_common_counts.plot(\"bar\", color=\"teal\")\n",
    "plt.grid(False)\n",
    "ax.spines[\"top\"].set_visible(False)\n",
    "ax.spines[\"right\"].set_visible(False)\n",
    "ax = plt.subplot(212)\n",
    "df_test_most_common_counts.plot(\"bar\", color=\"#551a8b\")\n",
    "plt.grid(False)\n",
    "ax.spines[\"top\"].set_visible(False)\n",
    "ax.spines[\"right\"].set_visible(False)\n"
   ]
  }
 ],
 "metadata": {
  "kernelspec": {
   "display_name": "Python 3",
   "language": "python",
   "name": "python3"
  },
  "language_info": {
   "codemirror_mode": {
    "name": "ipython",
    "version": 3
   },
   "file_extension": ".py",
   "mimetype": "text/x-python",
   "name": "python",
   "nbconvert_exporter": "python",
   "pygments_lexer": "ipython3",
   "version": "3.5.2"
  }
 },
 "nbformat": 4,
 "nbformat_minor": 2
}
